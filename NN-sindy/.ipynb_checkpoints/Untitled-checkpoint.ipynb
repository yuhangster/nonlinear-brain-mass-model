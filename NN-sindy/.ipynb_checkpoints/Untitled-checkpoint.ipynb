{
 "cells": [
  {
   "cell_type": "code",
   "execution_count": 1,
   "metadata": {},
   "outputs": [],
   "source": [
    "from nnSindy import *\n",
    "import numpy as np\n",
    "import pysindy as ps\n",
    "import scipy.io\n",
    "from numpy import diff\n",
    "\n",
    "import matplotlib.pyplot as plt\n",
    "from mpl_toolkits.mplot3d import Axes3D\n",
    "from scipy.integrate import solve_ivp\n",
    "from sklearn.linear_model import Lasso"
   ]
  },
  {
   "cell_type": "code",
   "execution_count": 3,
   "metadata": {},
   "outputs": [
    {
     "name": "stdout",
     "output_type": "stream",
     "text": [
      "shape of single training set:  (16, 9891)\n",
      "type of the training set:  <class 'numpy.ndarray'>\n",
      "number of training trials:  10\n",
      "shape of single time set:  (1, 9891)\n",
      "type of the training set:  <class 'numpy.ndarray'>\n"
     ]
    },
    {
     "data": {
      "image/png": "[encoded data removed]",
      "text/plain": [
       "<Figure size 432x288 with 1 Axes>"
      ]
     },
     "metadata": {
      "needs_background": "light"
     },
     "output_type": "display_data"
    }
   ],
   "source": [
    "\n",
    "# Case: Two columns\n",
    "\n",
    "#use all the trial as training data set\n",
    "trial = 10\n",
    "arrayNum = 10\n",
    "#16 states representing column 1 0-7 and column 2 8-15 \n",
    "t_train = [] \n",
    "x_train = []\n",
    "xdot_train = []\n",
    "\n",
    "#only one mat file \n",
    "for i in range (10,arrayNum+1):\n",
    "    mat = scipy.io.loadmat(r'C:\\Users\\l2016\\GitHub\\nonlinear-brain-mass-model\\data-gen\\data2col-noisyIn\\data2col_' + str(i) +'.mat')\n",
    "    for j in range (trial):\n",
    "        #get the data\n",
    "        tp_t = mat.get(\"data_t\")\n",
    "        tp_x = mat.get(\"data_x\")\n",
    "        tp_xdot = mat.get(\"data_xdot\")\n",
    "        t_train.append(tp_t[:,:,j])\n",
    "        x_train.append(tp_x[:,:,j])\n",
    "        xdot_train.append(tp_xdot[:,:,j])\n",
    "\n",
    "print('shape of single training set: ', x_train[0].shape)\n",
    "print('type of the training set: ', type(x_train[0]))\n",
    "print('number of training trials: ',len(t_train))\n",
    "print('shape of single time set: ', t_train[0].shape)\n",
    "print('type of the training set: ', type(t_train[0]))\n",
    "\n",
    "#plot the data\n",
    "fig, ax = plt.subplots( nrows=1, ncols=1 )  # create figure & 1 axis\n",
    "i = 0\n",
    "for trl in x_train:\n",
    "    if i == 0:\n",
    "        cl1 = [trl[1,:] - trl[2,:]]\n",
    "        cl1 = np.array(cl1)\n",
    "        #print(cl1)\n",
    "        cl2 = [trl[9,:] - trl[10,:]]\n",
    "        cl2 = np.array(cl2)\n",
    "        print(t_train[0])\n",
    "        ax.plot(t_train[0],cl1,'k')\n",
    "        #plt.plot(t_train[0],cl2,'k')\n",
    "    i+=1"
   ]
  },
  {
   "cell_type": "code",
   "execution_count": null,
   "metadata": {},
   "outputs": [],
   "source": []
  }
 ],
 "metadata": {
  "kernelspec": {
   "display_name": "Python 3",
   "language": "python",
   "name": "python3"
  },
  "language_info": {
   "codemirror_mode": {
    "name": "ipython",
    "version": 3
   },
   "file_extension": ".py",
   "mimetype": "text/x-python",
   "name": "python",
   "nbconvert_exporter": "python",
   "pygments_lexer": "ipython3",
   "version": "3.7.4"
  }
 },
 "nbformat": 4,
 "nbformat_minor": 2
}
