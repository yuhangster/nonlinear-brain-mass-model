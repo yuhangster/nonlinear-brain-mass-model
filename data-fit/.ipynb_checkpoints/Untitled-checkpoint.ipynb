{
 "cells": [
  {
   "cell_type": "code",
   "execution_count": 8,
   "metadata": {},
   "outputs": [
    {
     "name": "stdout",
     "output_type": "stream",
     "text": [
      "(8, 29502, 10)\n",
      "(8, 29502, 10)\n",
      "(1, 29502, 10)\n"
     ]
    }
   ],
   "source": [
    "import scipy.io\n",
    "import os \n",
    "\n",
    "dataPath = os.path.join(os.getcwd(), '..', 'data-gen', 'data', 'data_1.mat')\n",
    "data = scipy.io.loadmat(dataPath)\n",
    "\n",
    "data_x = data['data_x']\n",
    "data_xdot = data['data_xdot']\n",
    "data_t = data['data_t']\n",
    "\n",
    "print(data_x.shape)\n",
    "print(data_xdot.shape)\n",
    "print(data_t.shape)"
   ]
  },
  {
   "cell_type": "code",
   "execution_count": null,
   "metadata": {},
   "outputs": [],
   "source": [
    "import numpy as np\n",
    "x = np.zeros([3,4])\n",
    "print(x.shape[0],x.shape[1])"
   ]
  }
 ],
 "metadata": {
  "kernelspec": {
   "display_name": "Python 3",
   "language": "python",
   "name": "python3"
  },
  "language_info": {
   "codemirror_mode": {
    "name": "ipython",
    "version": 3
   },
   "file_extension": ".py",
   "mimetype": "text/x-python",
   "name": "python",
   "nbconvert_exporter": "python",
   "pygments_lexer": "ipython3",
   "version": "3.7.4"
  }
 },
 "nbformat": 4,
 "nbformat_minor": 2
}
