{
 "cells": [
  {
   "cell_type": "code",
   "execution_count": 37,
   "metadata": {},
   "outputs": [],
   "source": [
    "import pandas as pd\n",
    "import numpy as np\n",
    "import pysindy as ps\n",
    "import math\n",
    "from numpy import diff\n",
    "\n",
    "import matplotlib.pyplot as plt\n",
    "from mpl_toolkits.mplot3d import Axes3D\n",
    "from scipy.integrate import solve_ivp\n",
    "from sklearn.linear_model import Lasso"
   ]
  },
  {
   "cell_type": "code",
   "execution_count": 38,
   "metadata": {},
   "outputs": [],
   "source": [
    "# t = pd.read_csv (r'C:\\Users\\l2016\\GitHub\\nonlinear-brain-mass-model\\data-fit\\data-62-t.csv')\n",
    "# x = pd.read_csv (r'C:\\Users\\l2016\\GitHub\\nonlinear-brain-mass-model\\data-fit\\data-62-x.csv')\n",
    "# xdot = pd.read_csv (r'C:\\Users\\l2016\\GitHub\\nonlinear-brain-mass-model\\data-fit\\data-62-x.csv')\n",
    "# t = pd.read_csv (r'C:\\Users\\l2016\\GitHub\\nonlinear-brain-mass-model\\data-fit\\data-63-t.csv')\n",
    "# x = pd.read_csv (r'C:\\Users\\l2016\\GitHub\\nonlinear-brain-mass-model\\data-fit\\data-63-x.csv')\n",
    "# xdot = pd.read_csv (r'C:\\Users\\l2016\\GitHub\\nonlinear-brain-mass-model\\data-fit\\data-63-x.csv')\n",
    "\n",
    "t = pd.read_csv (r'C:\\Users\\l2016\\GitHub\\nonlinear-brain-mass-model\\data-fit\\data-12-t.csv')\n",
    "x = pd.read_csv (r'C:\\Users\\l2016\\GitHub\\nonlinear-brain-mass-model\\data-fit\\data-12-x.csv')\n",
    "xdot = pd.read_csv (r'C:\\Users\\l2016\\GitHub\\nonlinear-brain-mass-model\\data-fit\\data-12-x.csv')\n",
    "\n",
    "t = t.to_numpy() #0 to 1000\n",
    "x = x.to_numpy() #1039 by 16\n",
    "xdot = xdot.to_numpy()\n",
    "# print(x.shape[0])\n",
    "# print(type(x))\n",
    "#print(x[:,2])"
   ]
  },
  {
   "cell_type": "code",
   "execution_count": 39,
   "metadata": {},
   "outputs": [
    {
     "data": {
      "text/plain": [
       "[<matplotlib.lines.Line2D at 0x18448fef788>]"
      ]
     },
     "execution_count": 39,
     "metadata": {},
     "output_type": "execute_result"
    },
    {
     "data": {
      "image/png": "[encoded data removed]",
      "text/plain": [
       "<Figure size 432x288 with 1 Axes>"
      ]
     },
     "metadata": {
      "needs_background": "light"
     },
     "output_type": "display_data"
    }
   ],
   "source": [
    "cl1 = x[20:200,1] - x[20:200,2]\n",
    "plt.plot(t[20:200], cl1,'k')"
   ]
  },
  {
   "cell_type": "code",
   "execution_count": 40,
   "metadata": {},
   "outputs": [
    {
     "name": "stdout",
     "output_type": "stream",
     "text": [
      "(115,)\n",
      "(115, 9)\n"
     ]
    }
   ],
   "source": [
    "#the case 1 with one column \n",
    "#\n",
    "#create the training data\n",
    "#index = math.floor(len(t)/2)#519\n",
    "index = 140\n",
    "#test 1 use u as a input\n",
    "im = 25\n",
    "t_train = t[im: index].flatten()\n",
    "\n",
    "print(t_train.shape)\n",
    "#training data\n",
    "x_train = x [im:index]\n",
    "x_dot_train = xdot [im:index]\n",
    "#rint(x_train)\n",
    "#it also need to y term which is x 2nd column - 3rd column\n",
    "y = np.array([x[im:index,1] - x[im:index,2]])\n",
    "#print(y.shape)\n",
    "#concatenate the y to x_train \n",
    "x_train = np.concatenate((x_train, y.T), axis=1)\n",
    "print(x_train.shape)\n",
    "\n",
    "#compute the y_dot \n",
    "#ydt = diff(y.T)/diff(t_train)\n",
    "\n",
    "#concatenate to x_dot_train\n",
    "\n",
    "#x_dot_train = np.concatenate((x_dot_train, dydt.T), axis=1)\n",
    "\n",
    "# test 2\n",
    "#I will try to include u as one of the training input as well\n",
    "#can I fit u to a single hill wave function with reasonable width\n",
    "#and then pass it to the model as a input"
   ]
  },
  {
   "cell_type": "code",
   "execution_count": 41,
   "metadata": {},
   "outputs": [],
   "source": [
    "#I will initial with only 2 functions: one is x \n",
    "# the other is the sigmoid-liked function\n",
    "library_functions = [\n",
    "    lambda x : x,\n",
    "    lambda x : -2.5+5/(1+np.exp(-0.56*x)) #-e0+2*e0/(1+exp(-r*x))\n",
    "]\n",
    "library_function_names = [\n",
    "    lambda x : x,\n",
    "    lambda x : 'S(' + x + ')'\n",
    "]\n",
    "\n",
    "custom_library = ps.CustomLibrary(\n",
    "    library_functions=library_functions, function_names=library_function_names\n",
    ")"
   ]
  },
  {
   "cell_type": "code",
   "execution_count": 42,
   "metadata": {},
   "outputs": [
    {
     "name": "stdout",
     "output_type": "stream",
     "text": [
      "(x0)' = 1.124 x0 + -6.309 x1 + -1.133 x2 + 1.685 x3 + 12549.433 x4 + 193493.702 x5 + -185.691 x6 + -598202.291 x7 + -6.072 x8 + -1.598 S(x0) + -6.221 S(x1) + 18.616 S(x2) + -0.984 S(x3) + -17929.308 S(x4) + -276380.527 S(x5) + 262.359 S(x6) + 854706.162 S(x7) + 22.969 S(x8)\n",
      "(x1)' = -0.074 x0 + 0.426 x1 + -0.429 x2 + -0.020 x3 + -416.695 x4 + 6857.290 x5 + 2.304 x6 + -151303.541 x7 + 0.642 x8 + 0.106 S(x0) + -0.165 S(x1) + 0.119 S(x2) + 0.029 S(x3) + 596.839 S(x4) + -9797.263 S(x5) + -3.253 S(x6) + 216142.652 S(x7) + -1.326 S(x8)\n",
      "(x2)' = -0.020 x1 + -5.700 x4 + -3536.356 x5 + 5.286 x6 + 10211.630 x7 + -0.007 x8 + 0.197 S(x1) + -0.169 S(x2) + 8.143 S(x4) + 5053.405 S(x5) + -7.550 S(x6) + -14588.046 S(x7) + -0.159 S(x8)\n",
      "(x3)' = -412.646 x0 + 1932.741 x1 + 447.279 x2 + -1264.288 x3 + -3706410.621 x4 + -65505116.647 x5 + 78050.346 x6 + 195532579.233 x7 + 1779.043 x8 + 583.661 S(x0) + 2045.126 S(x1) + -5932.804 S(x2) + 1812.065 S(x3) + 5295726.289 S(x4) + 93567535.590 S(x5) + -110525.038 S(x6) + -279366406.458 S(x7) + -7126.367 S(x8)\n",
      "(x4)' = -0.016 x0 + 0.106 x1 + 0.166 x2 + -0.052 x3 + -372.921 x4 + -10355.975 x5 + 6.990 x6 + 70746.359 x7 + 0.042 x8 + 0.035 S(x0) + 0.345 S(x1) + -0.805 S(x2) + 0.075 S(x3) + 532.452 S(x4) + 14793.036 S(x5) + -9.890 S(x6) + -101070.189 S(x7) + -0.539 S(x8)\n",
      "(x5)' = -0.002 x1 + -0.002 x2 + -0.573 x4 + -106.266 x5 + 0.108 x6 + 731.275 x7 + 0.005 S(x1) + -0.006 S(x2) + 0.818 S(x4) + 151.617 S(x5) + -0.130 S(x6) + -1044.681 S(x7) + -0.002 S(x8)\n",
      "(x6)' = 0.002 x0 + -0.020 x1 + 0.005 x2 + 17.693 x4 + -430.597 x5 + 0.269 x6 + 4961.410 x7 + -0.020 x8 + -0.003 S(x0) + 0.028 S(x1) + -0.003 S(x2) + -25.277 S(x4) + 615.200 S(x5) + -0.386 S(x6) + -7086.055 S(x7) + 0.028 S(x8)\n",
      "(x7)' = -0.001 x2 + -0.443 x4 + 104.517 x5 + -0.189 x6 + -198.980 x7 + -0.005 S(x1) + 0.006 S(x2) + 0.633 S(x4) + -149.309 S(x5) + 0.255 S(x6) + 283.979 S(x7) + 0.008 S(x8)\n",
      "(x8)' = -0.075 x0 + 0.450 x1 + -0.430 x2 + -0.020 x3 + -417.492 x4 + 10296.918 x5 + -2.860 x6 + -161372.810 x7 + 0.652 x8 + 0.107 S(x0) + -0.359 S(x1) + 0.278 S(x2) + 0.028 S(x3) + 597.978 S(x4) + -14712.506 S(x5) + 4.125 S(x6) + 230527.260 S(x7) + -1.180 S(x8)\n"
     ]
    }
   ],
   "source": [
    "#pass the x and its derivative\n",
    "optimizer = ps.SR3(threshold=0.001)\n",
    "feature_library=custom_library\n",
    "\n",
    "model = ps.SINDy(\n",
    "    feature_library=feature_library,\n",
    "    optimizer=optimizer\n",
    ")\n",
    "model.fit(x_train, t=t_train)\n",
    "model.print()"
   ]
  },
  {
   "cell_type": "code",
   "execution_count": 43,
   "metadata": {},
   "outputs": [
    {
     "name": "stdout",
     "output_type": "stream",
     "text": [
      "Model score: -1.908585\n"
     ]
    }
   ],
   "source": [
    "print('Model score: %f' % model.score(x_train))"
   ]
  },
  {
   "cell_type": "code",
   "execution_count": null,
   "metadata": {},
   "outputs": [
    {
     "name": "stdout",
     "output_type": "stream",
     "text": [
      "[9.55626777e-01 3.24013078e-02 9.27050157e-07 1.07045774e-01\n",
      " 1.70748063e-02 1.28769632e-06 1.01296965e-04 9.57770151e-05\n",
      " 3.24003807e-02]\n"
     ]
    }
   ],
   "source": [
    "#simulate the result\n",
    "dt = 0.5\n",
    "t_test = np.arange(0, 200, dt)\n",
    "#use the x_train at 10 ms value as x0_test\n",
    "x0_test = x_train[24,:]\n",
    "print(x_train[24,:])\n",
    "x_test_sim = model.simulate(x0_test, t_test)"
   ]
  },
  {
   "cell_type": "code",
   "execution_count": null,
   "metadata": {},
   "outputs": [],
   "source": [
    "print(x_test_sim.shape[0])\n",
    "cl1_sim = x_test_sim[:,1] - x_test_sim[:,2]\n",
    "#cl2_sim = x_test_sim[:,9] - x_test_sim[:,10]\n",
    "\n",
    "print(cl1_sim.shape)\n",
    "#print(cl2_sim.shape)"
   ]
  },
  {
   "cell_type": "code",
   "execution_count": null,
   "metadata": {},
   "outputs": [],
   "source": [
    "cl1 = x[:,1] - x[:,2]\n",
    "#cl2 = x[:,9] - x[:,10]\n",
    "\n",
    "#print(cl1)\n",
    "#print(cl2.shape)"
   ]
  },
  {
   "cell_type": "code",
   "execution_count": null,
   "metadata": {},
   "outputs": [],
   "source": [
    "fig, ax = plt.subplots(2, 1, figsize=(7, 9))\n",
    "ax[0].plot(t, cl1,'k')\n",
    "ax[0].plot( t_test, cl1_sim, 'r--')\n",
    "ax[0].legend(['Cln 1','Cln 1_predicted'])\n",
    "# ax[1].plot(t, cl2,'k', t_test, cl2_sim, 'r--')\n",
    "# ax[1].legend(['Cln 2','Cln 2_predicted'])"
   ]
  },
  {
   "cell_type": "markdown",
   "metadata": {},
   "source": []
  }
 ],
 "metadata": {
  "kernelspec": {
   "display_name": "Python 3",
   "language": "python",
   "name": "python3"
  },
  "language_info": {
   "codemirror_mode": {
    "name": "ipython",
    "version": 3
   },
   "file_extension": ".py",
   "mimetype": "text/x-python",
   "name": "python",
   "nbconvert_exporter": "python",
   "pygments_lexer": "ipython3",
   "version": "3.7.4"
  }
 },
 "nbformat": 4,
 "nbformat_minor": 2
}
