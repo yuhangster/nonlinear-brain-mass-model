{
 "cells": [
  {
   "cell_type": "code",
   "execution_count": 80,
   "metadata": {},
   "outputs": [],
   "source": [
    "import pandas as pd\n",
    "import numpy as np\n",
    "import pysindy as ps\n",
    "import math\n",
    "\n",
    "import matplotlib.pyplot as plt\n",
    "from mpl_toolkits.mplot3d import Axes3D\n",
    "from scipy.integrate import solve_ivp\n",
    "from sklearn.linear_model import Lasso"
   ]
  },
  {
   "cell_type": "code",
   "execution_count": 81,
   "metadata": {},
   "outputs": [],
   "source": [
    "t = pd.read_csv (r'C:\\Users\\l2016\\GitHub\\nonlinear-brain-mass-model\\data-fit\\data-62-t.csv')\n",
    "x = pd.read_csv (r'C:\\Users\\l2016\\GitHub\\nonlinear-brain-mass-model\\data-fit\\data-62-x.csv')\n",
    "xdot = pd.read_csv (r'C:\\Users\\l2016\\GitHub\\nonlinear-brain-mass-model\\data-fit\\data-62-x.csv')\n",
    "\n",
    "t = t.to_numpy() #0 to 1000\n",
    "x = x.to_numpy() #1039 by 16\n",
    "xdot = xdot.to_numpy()\n",
    "# print(x.shape)\n",
    "# print(type(x))\n",
    "# print(x)"
   ]
  },
  {
   "cell_type": "code",
   "execution_count": 82,
   "metadata": {},
   "outputs": [],
   "source": [
    "#create the training data\n",
    "index = math.floor(len(t)/2)#519\n",
    "t_train = t[0: index]\n",
    "x_train = x [0:index][:]\n",
    "x_dot_train = x [0:index][:]\n",
    "#print(type(x_train))\n"
   ]
  },
  {
   "cell_type": "code",
   "execution_count": 83,
   "metadata": {},
   "outputs": [
    {
     "name": "stdout",
     "output_type": "stream",
     "text": [
      "(x0)' = 0.971 sin(1 x0) + 0.948 cos(1 x0) + -1.033 sin(1 x1) + -0.762 cos(1 x1) + -0.063 sin(1 x2) + -0.186 cos(1 x2) + -0.002 sin(1 x3) + 0.011 cos(1 x3) + 39.203 sin(1 x4) + 490.551 cos(1 x4) + -59.207 sin(1 x5) + -516.874 cos(1 x5) + 1.868 sin(1 x6) + 3.813 cos(1 x6) + 692.034 cos(1 x7) + -0.200 sin(1 x8) + 0.206 cos(1 x8) + 1.474 sin(1 x9) + 0.397 cos(1 x9) + 0.556 sin(1 x10) + -0.236 cos(1 x10) + -41.238 sin(1 x11) + -67.113 cos(1 x11) + -303.717 cos(1 x12) + -168.156 cos(1 x13) + 0.845 sin(1 x14) + -3.811 cos(1 x14) + 130.153 sin(1 x15) + -127.103 cos(1 x15)\n",
      "(x1)' = 0.006 sin(1 x0) + 0.168 cos(1 x0) + 0.885 sin(1 x1) + -0.009 cos(1 x1) + 0.192 sin(1 x2) + -0.027 cos(1 x2) + -0.001 sin(1 x3) + 0.025 cos(1 x3) + 4.771 sin(1 x4) + 86.719 cos(1 x4) + -5.194 sin(1 x5) + 73.474 cos(1 x5) + -0.397 sin(1 x6) + -1.501 cos(1 x6) + 10.271 sin(1 x7) + 289.489 cos(1 x7) + 0.386 sin(1 x8) + 0.474 cos(1 x8) + -0.614 sin(1 x9) + 0.628 cos(1 x9) + 0.007 sin(1 x10) + -0.099 cos(1 x10) + -20.752 sin(1 x11) + -534.941 cos(1 x11) + -12.354 sin(1 x12) + 573.378 cos(1 x12) + -1.381 sin(1 x13) + -533.346 cos(1 x13) + 1.525 sin(1 x14) + -0.540 cos(1 x14) + 47.678 sin(1 x15) + 46.108 cos(1 x15)\n",
      "(x2)' = -0.018 cos(1 x0) + 0.071 sin(1 x1) + 0.246 cos(1 x1) + -0.073 sin(1 x2) + 0.081 cos(1 x2) + -0.001 cos(1 x3) + -0.563 sin(1 x4) + -5.512 cos(1 x4) + -19.483 sin(1 x5) + 132.722 cos(1 x5) + 2.670 sin(1 x6) + -1.524 cos(1 x6) + -8.680 sin(1 x7) + -84.046 cos(1 x7) + 0.116 sin(1 x8) + 0.111 cos(1 x8) + -0.121 sin(1 x9) + -0.178 cos(1 x9) + 0.047 sin(1 x10) + 0.003 cos(1 x10) + -12.670 sin(1 x11) + -32.170 cos(1 x11) + -54.933 sin(1 x12) + -158.628 cos(1 x12) + 34.161 sin(1 x13) + 39.977 cos(1 x13) + -0.719 sin(1 x14) + -0.963 cos(1 x14) + 66.256 sin(1 x15) + 109.899 cos(1 x15)\n",
      "(x3)' = -0.002 sin(1 x0) + -0.005 cos(1 x0) + 0.004 sin(1 x1) + 0.008 cos(1 x1) + 0.001 sin(1 x2) + 0.994 sin(1 x3) + -0.145 cos(1 x3) + -0.039 sin(1 x4) + 1.251 cos(1 x4) + 0.064 sin(1 x5) + 2.454 cos(1 x5) + -0.009 sin(1 x6) + 4.807 cos(1 x7) + 0.001 sin(1 x8) + 0.002 cos(1 x8) + -0.003 sin(1 x9) + 0.003 cos(1 x9) + -0.001 sin(1 x10) + -0.001 cos(1 x10) + -10.745 cos(1 x11) + 12.733 cos(1 x12) + -10.363 cos(1 x13) + 0.005 sin(1 x14) + 0.032 cos(1 x14) + -0.030 cos(1 x15)\n",
      "(x4)' = 0.998 sin(1 x4) + -0.035 cos(1 x4) + 0.002 sin(1 x5) + 0.074 cos(1 x5) + -0.001 sin(1 x6) + 0.002 sin(1 x7) + -0.157 cos(1 x7) + -0.005 sin(1 x11) + 0.155 cos(1 x11) + 0.003 sin(1 x12) + -0.290 cos(1 x12) + 0.213 cos(1 x13) + -0.001 cos(1 x14) + 0.003 sin(1 x15) + 0.041 cos(1 x15)\n",
      "(x5)' = -0.008 cos(1 x4) + 1.000 sin(1 x5) + -0.015 cos(1 x5) + -0.009 cos(1 x7) + 0.001 sin(1 x11) + 0.055 cos(1 x11) + 0.001 sin(1 x12) + -0.067 cos(1 x12) + 0.071 cos(1 x13) + -0.004 sin(1 x15) + -0.028 cos(1 x15)\n",
      "(x6)' = -0.006 cos(1 x0) + 0.004 sin(1 x1) + 0.029 cos(1 x1) + 0.002 sin(1 x2) + 0.017 cos(1 x2) + -0.001 cos(1 x3) + -0.177 sin(1 x4) + -3.016 cos(1 x4) + -0.096 sin(1 x5) + 7.634 cos(1 x5) + 1.156 sin(1 x6) + 0.073 cos(1 x6) + -15.846 cos(1 x7) + -0.062 sin(1 x8) + -0.037 cos(1 x8) + -0.024 sin(1 x9) + -0.062 cos(1 x9) + 0.015 sin(1 x10) + 0.003 cos(1 x10) + 0.251 sin(1 x11) + 30.719 cos(1 x11) + -1.013 sin(1 x12) + -61.695 cos(1 x12) + 1.929 sin(1 x13) + 46.827 cos(1 x13) + -0.127 sin(1 x14) + -0.215 cos(1 x14) + 0.445 sin(1 x15) + -4.426 cos(1 x15)\n",
      "(x7)' = 0.009 sin(1 x1) + -0.008 sin(1 x2) + -0.003 cos(1 x2) + -0.015 sin(1 x4) + 0.020 sin(1 x8) + -0.027 sin(1 x9) + 0.002 sin(1 x10) + 0.003 cos(1 x10)\n",
      "(x8)' = -0.002 sin(1 x0) + -0.053 cos(1 x0) + 0.041 sin(1 x1) + 0.516 cos(1 x1) + -0.053 sin(1 x2) + 0.167 cos(1 x2) + -0.008 cos(1 x3) + -1.502 sin(1 x4) + -22.504 cos(1 x4) + -3.971 sin(1 x5) + 194.498 cos(1 x5) + 2.494 sin(1 x6) + -1.305 cos(1 x6) + 1.746 sin(1 x7) + -137.670 cos(1 x7) + -0.043 sin(1 x8) + -0.012 cos(1 x8) + -0.101 sin(1 x9) + -0.697 cos(1 x9) + 0.035 sin(1 x10) + 0.045 cos(1 x10) + 0.141 sin(1 x11) + 174.505 cos(1 x11) + -17.555 sin(1 x12) + -539.303 cos(1 x12) + 25.692 sin(1 x13) + 285.062 cos(1 x13) + -1.397 sin(1 x14) + -2.031 cos(1 x14) + 13.813 sin(1 x15) + 48.790 cos(1 x15)\n",
      "(x9)' = 0.001 cos(1 x0) + 0.028 sin(1 x1) + 0.091 cos(1 x1) + 0.032 sin(1 x2) + 0.019 cos(1 x2) + 0.001 cos(1 x3) + 0.005 sin(1 x4) + 2.824 cos(1 x4) + 0.135 sin(1 x5) + 37.579 cos(1 x5) + 0.415 sin(1 x6) + -0.423 cos(1 x6) + -2.386 sin(1 x7) + 47.243 cos(1 x7) + 0.167 sin(1 x8) + 0.103 cos(1 x8) + 0.067 sin(1 x9) + 0.007 cos(1 x9) + 0.024 sin(1 x10) + -0.030 cos(1 x10) + -12.703 sin(1 x11) + -93.036 cos(1 x11) + -21.541 sin(1 x12) + 76.730 cos(1 x12) + 12.941 sin(1 x13) + -90.677 cos(1 x13) + 0.478 sin(1 x14) + -0.172 cos(1 x14) + 33.844 sin(1 x15) + 19.741 cos(1 x15)\n",
      "(x10)' = 0.002 sin(1 x0) + 0.057 cos(1 x0) + -0.066 sin(1 x1) + -0.773 cos(1 x1) + 0.119 sin(1 x2) + -0.225 cos(1 x2) + 0.009 cos(1 x3) + 1.622 sin(1 x4) + 20.339 cos(1 x4) + 6.370 sin(1 x5) + -290.041 cos(1 x5) + -3.434 sin(1 x6) + 1.821 cos(1 x6) + -2.469 sin(1 x7) + 275.830 cos(1 x7) + 0.361 sin(1 x8) + 0.097 cos(1 x8) + 0.234 sin(1 x9) + 0.975 cos(1 x9) + 0.020 sin(1 x10) + -0.129 cos(1 x10) + -39.951 sin(1 x11) + -279.368 cos(1 x11) + -13.688 sin(1 x12) + 819.686 cos(1 x12) + -2.160 sin(1 x13) + -490.269 cos(1 x13) + 2.931 sin(1 x14) + 3.385 cos(1 x14) + 56.928 sin(1 x15) + -61.395 cos(1 x15)\n",
      "(x11)' = 1.001 sin(1 x11) + 0.002 sin(1 x12) + -0.001 sin(1 x13) + -0.003 sin(1 x15)\n",
      "(x12)' = -0.002 sin(1 x11) + 0.999 sin(1 x12) + 0.003 sin(1 x15)\n",
      "(x13)' = -0.001 cos(1 x4) + -0.012 cos(1 x5) + 0.072 cos(1 x7) + 0.002 sin(1 x11) + -0.068 cos(1 x11) + -0.002 sin(1 x12) + 0.115 cos(1 x12) + 1.001 sin(1 x13) + -0.084 cos(1 x13) + -0.021 cos(1 x15)\n",
      "(x14)' = 0.003 cos(1 x0) + -0.007 sin(1 x1) + 0.020 cos(1 x1) + 0.014 sin(1 x2) + -0.003 cos(1 x2) + 0.001 cos(1 x3) + 0.075 sin(1 x4) + 0.583 cos(1 x4) + 10.947 cos(1 x5) + 0.143 sin(1 x6) + -0.199 cos(1 x6) + 0.562 sin(1 x7) + 47.057 cos(1 x7) + -0.022 sin(1 x8) + 0.068 cos(1 x8) + 0.021 sin(1 x9) + 0.069 cos(1 x9) + 0.030 sin(1 x10) + -0.024 cos(1 x10) + 2.861 sin(1 x11) + -82.521 cos(1 x11) + 1.158 sin(1 x12) + 99.490 cos(1 x12) + -1.286 sin(1 x13) + -85.096 cos(1 x13) + 0.932 sin(1 x14) + 0.017 cos(1 x14) + -4.287 sin(1 x15) + 9.589 cos(1 x15)\n",
      "(x15)' = 0.001 cos(1 x4) + 0.001 cos(1 x5) + 0.012 cos(1 x7) + -0.007 cos(1 x11) + 0.008 cos(1 x12) + -0.007 cos(1 x13) + 1.000 sin(1 x15) + -0.007 cos(1 x15)\n"
     ]
    }
   ],
   "source": [
    "#pass the x and its derivative\n",
    "optimizer = ps.STLSQ(threshold=0.001)\n",
    "feature_library = ps.FourierLibrary()\n",
    "\n",
    "model = ps.SINDy(\n",
    "    feature_library=feature_library,\n",
    "    optimizer=optimizer\n",
    ")\n",
    "model.fit(x_train, t=t_train, x_dot=x_dot_train)\n",
    "model.print()"
   ]
  },
  {
   "cell_type": "code",
   "execution_count": null,
   "metadata": {},
   "outputs": [],
   "source": []
  }
 ],
 "metadata": {
  "kernelspec": {
   "display_name": "Python 3",
   "language": "python",
   "name": "python3"
  },
  "language_info": {
   "codemirror_mode": {
    "name": "ipython",
    "version": 3
   },
   "file_extension": ".py",
   "mimetype": "text/x-python",
   "name": "python",
   "nbconvert_exporter": "python",
   "pygments_lexer": "ipython3",
   "version": "3.7.4"
  }
 },
 "nbformat": 4,
 "nbformat_minor": 2
}
